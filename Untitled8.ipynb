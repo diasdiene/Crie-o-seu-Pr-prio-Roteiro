{
  "nbformat": 4,
  "nbformat_minor": 0,
  "metadata": {
    "colab": {
      "provenance": [],
      "authorship_tag": "ABX9TyOeLXJUVG2W2/JeLE3ZNJ1C",
      "include_colab_link": true
    },
    "kernelspec": {
      "name": "python3",
      "display_name": "Python 3"
    },
    "language_info": {
      "name": "python"
    }
  },
  "cells": [
    {
      "cell_type": "markdown",
      "metadata": {
        "id": "view-in-github",
        "colab_type": "text"
      },
      "source": [
        "<a href=\"https://colab.research.google.com/github/diasdiene/Crie-o-seu-Pr-prio-Roteiro/blob/main/Untitled8.ipynb\" target=\"_parent\"><img src=\"https://colab.research.google.com/assets/colab-badge.svg\" alt=\"Open In Colab\"/></a>"
      ]
    },
    {
      "cell_type": "code",
      "source": [
        "!pip install -q -U google-generativeai\n",
        "\n",
        "import google.generativeai as genai\n",
        "from google.colab import userdata\n",
        "api_key = userdata.get('SECRET_KEY')\n",
        "genai.configure(api_key=api_key)\n",
        "\n",
        "# Listar modelos disponíveis que suportam geração de conteúdo\n",
        "for m in genai.list_models():\n",
        "    if 'generateContent' in m.supported_generation_methods:\n",
        "        print(m.name)\n"
      ],
      "metadata": {
        "colab": {
          "base_uri": "https://localhost:8080/",
          "height": 146
        },
        "id": "QZp9udXT_MTJ",
        "outputId": "4cf365a5-5996-40e0-95ec-a917e9df848f"
      },
      "execution_count": 108,
      "outputs": [
        {
          "output_type": "stream",
          "name": "stdout",
          "text": [
            "models/gemini-1.0-pro\n",
            "models/gemini-1.0-pro-001\n",
            "models/gemini-1.0-pro-latest\n",
            "models/gemini-1.0-pro-vision-latest\n",
            "models/gemini-1.5-pro-latest\n",
            "models/gemini-pro\n",
            "models/gemini-pro-vision\n"
          ]
        }
      ]
    },
    {
      "cell_type": "code",
      "source": [
        "generation_config = {\n",
        "    \"candidate_count\": 1,\n",
        "    \"temperature\": 0.5,\n",
        "}\n",
        "\n",
        "safety_settings = {\n",
        "    \"HARASSMENT\": \"BLOCK_NONE\",\n",
        "    \"HATE\": \"BLOCK_NONE\",\n",
        "    \"SEXUAL\": \"BLOCK_NONE\",\n",
        "    \"DANGEROUS\": \"BLOCK_NONE\",\n",
        "}\n",
        "\n",
        "model = genai.GenerativeModel(model_name=\"gemini-1.5-pro-latest\",\n",
        "                              generation_config=generation_config,\n",
        "                              safety_settings=safety_settings)\n"
      ],
      "metadata": {
        "id": "YFeX3oEo_NRx"
      },
      "execution_count": 109,
      "outputs": []
    },
    {
      "cell_type": "code",
      "source": [
        "def generate_movie_script(script, genre):\n",
        "    prompt = f\"Gênero: {genre}\\nRoteiro: {script}\\n---\\nGerar filme baseado no roteiro acima.\"\n",
        "    response = model.generate_content(prompt)\n",
        "    return response.text\n",
        "\n",
        "# Exemplo de uso\n",
        "script = \"Aqui vai o roteiro detalhado criado pelo usuário.\"\n",
        "genre = \"Aventura\"\n",
        "movie = generate_movie_script(script, genre)\n",
        "print(\"Resultado da Geração de Filme:\", movie)\n"
      ],
      "metadata": {
        "id": "D54TAmHp_RhX"
      },
      "execution_count": null,
      "outputs": []
    },
    {
      "cell_type": "code",
      "source": [
        "while True:\n",
        "    user_script = input(\"Digite seu roteiro ou 'fim' para sair: \")\n",
        "    if user_script.lower() == \"fim\":\n",
        "        break\n",
        "    user_genre = input(\"Digite o gênero do filme: \")\n",
        "    result = generate_movie_script(user_script, user_genre)\n",
        "    print(\"Filme AI Gerado:\\n\", result)\n"
      ],
      "metadata": {
        "id": "VtVuKcd-_WX2"
      },
      "execution_count": null,
      "outputs": []
    }
  ]
}